{
 "cells": [
  {
   "cell_type": "code",
   "execution_count": 1,
   "id": "1526714f-f239-42c5-be7f-21dafc16e93e",
   "metadata": {},
   "outputs": [],
   "source": [
    "import spacy\n",
    "\n"
   ]
  },
  {
   "cell_type": "code",
   "execution_count": 4,
   "id": "928f72a4-f7c5-4d89-9ca6-9032e76f18b6",
   "metadata": {},
   "outputs": [],
   "source": [
    "file = open(\"GlennCoded.xml\", \"r\", encoding=\"utf-8\")\n",
    "text = file.read()\n",
    "file.close()\n"
   ]
  },
  {
   "cell_type": "code",
   "execution_count": 5,
   "id": "d18aff57-f002-4bc5-ac77-fa34c3f73dc0",
   "metadata": {},
   "outputs": [],
   "source": [
    "nlp = spacy.load(\"en_core_web_sm\")\n"
   ]
  },
  {
   "cell_type": "code",
   "execution_count": 6,
   "id": "1978f442-2bfe-4f81-afb1-896d9c9ba8e9",
   "metadata": {},
   "outputs": [],
   "source": [
    "doc = nlp(text)\n"
   ]
  },
  {
   "cell_type": "code",
   "execution_count": 11,
   "id": "d1319bef-d72f-47c3-9430-ef3785478c5f",
   "metadata": {},
   "outputs": [
    {
     "name": "stdout",
     "output_type": "stream",
     "text": [
      "get: 14\n",
      "go: 13\n",
      "do: 11\n",
      "have: 11\n",
      "make: 7\n",
      "know: 6\n",
      "see: 5\n",
      "work: 5\n",
      "need: 5\n",
      "think: 4\n"
     ]
    }
   ],
   "source": [
    "verb_freq = {}\n",
    "for token in doc:\n",
    "    if token.pos_ == \"VERB\":\n",
    "        verb = token.lemma_.lower()\n",
    "        verb_freq[verb] = verb_freq.get(verb, 0) + 1\n",
    "\n",
    "\n",
    "sorted_verbs = sorted(verb_freq.items(), key=lambda x: x[1], reverse=True)\n",
    "\n",
    "\n",
    "for verb, freq in sorted_verbs[:10]:\n",
    "    print(f\"{verb}: {freq}\")\n"
   ]
  },
  {
   "cell_type": "code",
   "execution_count": 12,
   "id": "643330bb-e8de-4e97-92b5-460f4253121f",
   "metadata": {},
   "outputs": [],
   "source": [
    "with open(\"verbFreq.txt\", \"w\", encoding=\"utf-8\") as o:\n",
    "    for verb, freq in sorted_verbs:\n",
    "        o.write(f\"{verb}: {freq}\\n\")\n"
   ]
  },
  {
   "cell_type": "code",
   "execution_count": null,
   "id": "0b9bd28e-af1c-4719-b065-3d79299d05f3",
   "metadata": {},
   "outputs": [],
   "source": []
  }
 ],
 "metadata": {
  "kernelspec": {
   "display_name": "Python 3 (ipykernel)",
   "language": "python",
   "name": "python3"
  },
  "language_info": {
   "codemirror_mode": {
    "name": "ipython",
    "version": 3
   },
   "file_extension": ".py",
   "mimetype": "text/x-python",
   "name": "python",
   "nbconvert_exporter": "python",
   "pygments_lexer": "ipython3",
   "version": "3.12.6"
  }
 },
 "nbformat": 4,
 "nbformat_minor": 5
}
